{
  "nbformat": 4,
  "nbformat_minor": 0,
  "metadata": {
    "colab": {
      "provenance": []
    },
    "kernelspec": {
      "name": "python3",
      "display_name": "Python 3"
    },
    "language_info": {
      "name": "python"
    }
  },
  "cells": [
    {
      "cell_type": "code",
      "execution_count": 6,
      "metadata": {
        "colab": {
          "base_uri": "https://localhost:8080/"
        },
        "id": "XkbJWRTmoYir",
        "outputId": "13b3c579-db50-4363-851f-f26876ecc43b"
      },
      "outputs": [
        {
          "output_type": "stream",
          "name": "stdout",
          "text": [
            "Requirement already satisfied: transformers in /usr/local/lib/python3.10/dist-packages (4.35.2)\n",
            "Requirement already satisfied: filelock in /usr/local/lib/python3.10/dist-packages (from transformers) (3.13.1)\n",
            "Requirement already satisfied: huggingface-hub<1.0,>=0.16.4 in /usr/local/lib/python3.10/dist-packages (from transformers) (0.19.4)\n",
            "Requirement already satisfied: numpy>=1.17 in /usr/local/lib/python3.10/dist-packages (from transformers) (1.23.5)\n",
            "Requirement already satisfied: packaging>=20.0 in /usr/local/lib/python3.10/dist-packages (from transformers) (23.2)\n",
            "Requirement already satisfied: pyyaml>=5.1 in /usr/local/lib/python3.10/dist-packages (from transformers) (6.0.1)\n",
            "Requirement already satisfied: regex!=2019.12.17 in /usr/local/lib/python3.10/dist-packages (from transformers) (2023.6.3)\n",
            "Requirement already satisfied: requests in /usr/local/lib/python3.10/dist-packages (from transformers) (2.31.0)\n",
            "Requirement already satisfied: tokenizers<0.19,>=0.14 in /usr/local/lib/python3.10/dist-packages (from transformers) (0.15.0)\n",
            "Requirement already satisfied: safetensors>=0.3.1 in /usr/local/lib/python3.10/dist-packages (from transformers) (0.4.0)\n",
            "Requirement already satisfied: tqdm>=4.27 in /usr/local/lib/python3.10/dist-packages (from transformers) (4.66.1)\n",
            "Requirement already satisfied: fsspec>=2023.5.0 in /usr/local/lib/python3.10/dist-packages (from huggingface-hub<1.0,>=0.16.4->transformers) (2023.6.0)\n",
            "Requirement already satisfied: typing-extensions>=3.7.4.3 in /usr/local/lib/python3.10/dist-packages (from huggingface-hub<1.0,>=0.16.4->transformers) (4.5.0)\n",
            "Requirement already satisfied: charset-normalizer<4,>=2 in /usr/local/lib/python3.10/dist-packages (from requests->transformers) (3.3.2)\n",
            "Requirement already satisfied: idna<4,>=2.5 in /usr/local/lib/python3.10/dist-packages (from requests->transformers) (3.4)\n",
            "Requirement already satisfied: urllib3<3,>=1.21.1 in /usr/local/lib/python3.10/dist-packages (from requests->transformers) (2.0.7)\n",
            "Requirement already satisfied: certifi>=2017.4.17 in /usr/local/lib/python3.10/dist-packages (from requests->transformers) (2023.7.22)\n",
            "Requirement already satisfied: pandas in /usr/local/lib/python3.10/dist-packages (1.5.3)\n",
            "Requirement already satisfied: nltk in /usr/local/lib/python3.10/dist-packages (3.8.1)\n",
            "Requirement already satisfied: transformers in /usr/local/lib/python3.10/dist-packages (4.35.2)\n",
            "Requirement already satisfied: matplotlib in /usr/local/lib/python3.10/dist-packages (3.7.1)\n",
            "Requirement already satisfied: pyspark in /usr/local/lib/python3.10/dist-packages (3.5.0)\n",
            "Requirement already satisfied: emoji in /usr/local/lib/python3.10/dist-packages (2.8.0)\n",
            "Requirement already satisfied: textblob in /usr/local/lib/python3.10/dist-packages (0.17.1)\n",
            "Requirement already satisfied: openpyxl in /usr/local/lib/python3.10/dist-packages (3.1.2)\n",
            "Requirement already satisfied: python-dateutil>=2.8.1 in /usr/local/lib/python3.10/dist-packages (from pandas) (2.8.2)\n",
            "Requirement already satisfied: pytz>=2020.1 in /usr/local/lib/python3.10/dist-packages (from pandas) (2023.3.post1)\n",
            "Requirement already satisfied: numpy>=1.21.0 in /usr/local/lib/python3.10/dist-packages (from pandas) (1.23.5)\n",
            "Requirement already satisfied: click in /usr/local/lib/python3.10/dist-packages (from nltk) (8.1.7)\n",
            "Requirement already satisfied: joblib in /usr/local/lib/python3.10/dist-packages (from nltk) (1.3.2)\n",
            "Requirement already satisfied: regex>=2021.8.3 in /usr/local/lib/python3.10/dist-packages (from nltk) (2023.6.3)\n",
            "Requirement already satisfied: tqdm in /usr/local/lib/python3.10/dist-packages (from nltk) (4.66.1)\n",
            "Requirement already satisfied: filelock in /usr/local/lib/python3.10/dist-packages (from transformers) (3.13.1)\n",
            "Requirement already satisfied: huggingface-hub<1.0,>=0.16.4 in /usr/local/lib/python3.10/dist-packages (from transformers) (0.19.4)\n",
            "Requirement already satisfied: packaging>=20.0 in /usr/local/lib/python3.10/dist-packages (from transformers) (23.2)\n",
            "Requirement already satisfied: pyyaml>=5.1 in /usr/local/lib/python3.10/dist-packages (from transformers) (6.0.1)\n",
            "Requirement already satisfied: requests in /usr/local/lib/python3.10/dist-packages (from transformers) (2.31.0)\n",
            "Requirement already satisfied: tokenizers<0.19,>=0.14 in /usr/local/lib/python3.10/dist-packages (from transformers) (0.15.0)\n",
            "Requirement already satisfied: safetensors>=0.3.1 in /usr/local/lib/python3.10/dist-packages (from transformers) (0.4.0)\n",
            "Requirement already satisfied: contourpy>=1.0.1 in /usr/local/lib/python3.10/dist-packages (from matplotlib) (1.2.0)\n",
            "Requirement already satisfied: cycler>=0.10 in /usr/local/lib/python3.10/dist-packages (from matplotlib) (0.12.1)\n",
            "Requirement already satisfied: fonttools>=4.22.0 in /usr/local/lib/python3.10/dist-packages (from matplotlib) (4.44.0)\n",
            "Requirement already satisfied: kiwisolver>=1.0.1 in /usr/local/lib/python3.10/dist-packages (from matplotlib) (1.4.5)\n",
            "Requirement already satisfied: pillow>=6.2.0 in /usr/local/lib/python3.10/dist-packages (from matplotlib) (9.4.0)\n",
            "Requirement already satisfied: pyparsing>=2.3.1 in /usr/local/lib/python3.10/dist-packages (from matplotlib) (3.1.1)\n",
            "Requirement already satisfied: py4j==0.10.9.7 in /usr/local/lib/python3.10/dist-packages (from pyspark) (0.10.9.7)\n",
            "Requirement already satisfied: et-xmlfile in /usr/local/lib/python3.10/dist-packages (from openpyxl) (1.1.0)\n",
            "Requirement already satisfied: fsspec>=2023.5.0 in /usr/local/lib/python3.10/dist-packages (from huggingface-hub<1.0,>=0.16.4->transformers) (2023.6.0)\n",
            "Requirement already satisfied: typing-extensions>=3.7.4.3 in /usr/local/lib/python3.10/dist-packages (from huggingface-hub<1.0,>=0.16.4->transformers) (4.5.0)\n",
            "Requirement already satisfied: six>=1.5 in /usr/local/lib/python3.10/dist-packages (from python-dateutil>=2.8.1->pandas) (1.16.0)\n",
            "Requirement already satisfied: charset-normalizer<4,>=2 in /usr/local/lib/python3.10/dist-packages (from requests->transformers) (3.3.2)\n",
            "Requirement already satisfied: idna<4,>=2.5 in /usr/local/lib/python3.10/dist-packages (from requests->transformers) (3.4)\n",
            "Requirement already satisfied: urllib3<3,>=1.21.1 in /usr/local/lib/python3.10/dist-packages (from requests->transformers) (2.0.7)\n",
            "Requirement already satisfied: certifi>=2017.4.17 in /usr/local/lib/python3.10/dist-packages (from requests->transformers) (2023.7.22)\n",
            "Requirement already satisfied: langid in /usr/local/lib/python3.10/dist-packages (1.1.6)\n",
            "Requirement already satisfied: numpy in /usr/local/lib/python3.10/dist-packages (from langid) (1.23.5)\n",
            "Requirement already satisfied: pyspark in /usr/local/lib/python3.10/dist-packages (3.5.0)\n",
            "Requirement already satisfied: py4j==0.10.9.7 in /usr/local/lib/python3.10/dist-packages (from pyspark) (0.10.9.7)\n"
          ]
        }
      ],
      "source": [
        "!pip install transformers\n",
        "from transformers import AutoTokenizer, AutoModelForSequenceClassification, pipeline\n",
        "!pip install pandas nltk transformers matplotlib pyspark emoji textblob openpyxl\n",
        "!pip install langid\n",
        "!pip install pyspark\n"
      ]
    },
    {
      "cell_type": "code",
      "source": [
        "from pyspark.sql import SparkSession\n",
        "# Crear SparkSession\n",
        "spark = SparkSession.builder.master(\"local[*]\").getOrCreate()\n",
        "\n",
        "# Leer el archivo CSV\n",
        "data = spark.read.csv('comentarios_espanol.csv', header=True, sep=\",\")\n",
        "data.show(10)"
      ],
      "metadata": {
        "colab": {
          "base_uri": "https://localhost:8080/"
        },
        "id": "D3RFR-BhsbIq",
        "outputId": "41fffa9a-73af-4c07-b907-a01d0faa0313"
      },
      "execution_count": 8,
      "outputs": [
        {
          "output_type": "stream",
          "name": "stdout",
          "text": [
            "+--------------------+\n",
            "|     Cleaned_Comment|\n",
            "+--------------------+\n",
            "|         Los amo😍😍|\n",
            "|             Los amo|\n",
            "|No puedo con tant...|\n",
            "|        Los amo!! ♥️|\n",
            "|Está pequeña part...|\n",
            "|No puedo con tant...|\n",
            "|No puedo con tant...|\n",
            "|Piel de gallina.....|\n",
            "|No puedo con tant...|\n",
            "|Es simplemente he...|\n",
            "+--------------------+\n",
            "only showing top 10 rows\n",
            "\n"
          ]
        }
      ]
    },
    {
      "cell_type": "code",
      "source": [
        "from pyspark.sql.functions import col\n",
        "\n",
        "# Aplicar UDFs al DataFrame\n",
        "df = df.withColumn(\"sentimiento_bert\", analizar_sentimiento_bert_udf(col(\"Cleaned_Comment\")))\n",
        "\n",
        "df.show()"
      ],
      "metadata": {
        "colab": {
          "base_uri": "https://localhost:8080/"
        },
        "id": "r_TWqseCunqh",
        "outputId": "ebfd9689-38fa-455f-81ad-9af8892fd81f"
      },
      "execution_count": 31,
      "outputs": [
        {
          "output_type": "stream",
          "name": "stdout",
          "text": [
            "+--------------------+------+----------------+\n",
            "|     Cleaned_Comment|emojis|sentimiento_bert|\n",
            "+--------------------+------+----------------+\n",
            "|         Los amo😍😍|  😍😍|         5 stars|\n",
            "|             Los amo|      |         5 stars|\n",
            "|No puedo con tant...|     ❤|         5 stars|\n",
            "|        Los amo!! ♥️|    ♥️|         5 stars|\n",
            "|Está pequeña part...|    ❤️|         5 stars|\n",
            "|No puedo con tant...|     ❤|         5 stars|\n",
            "|No puedo con tant...|     ❤|         5 stars|\n",
            "|Piel de gallina.....|    🙌|         5 stars|\n",
            "|No puedo con tant...|     ❤|         5 stars|\n",
            "|Es simplemente he...|      |         5 stars|\n",
            "|Que placer ser pa...|      |         5 stars|\n",
            "|Bellísima, muy em...|      |         5 stars|\n",
            "|Muito obrigado Be...|    ♥️|         5 stars|\n",
            "|    LOS AMOOOOOOOOOO|      |         3 stars|\n",
            "|           Eternos ❤|     ❤|         5 stars|\n",
            "|El solo con slide...|      |         5 stars|\n",
            "|             Los amo|      |         5 stars|\n",
            "|           Los amo❤️|    ❤️|         5 stars|\n",
            "|Que sería de mi v...|      |         5 stars|\n",
            "|          los amo 😭|    😭|         5 stars|\n",
            "+--------------------+------+----------------+\n",
            "only showing top 20 rows\n",
            "\n"
          ]
        }
      ]
    },
    {
      "cell_type": "code",
      "source": [
        "import re\n",
        "#Definimos el modelo\n",
        "model_name = \"nlptown/bert-base-multilingual-uncased-sentiment\"\n",
        "model = AutoModelForSequenceClassification.from_pretrained(model_name)\n",
        "tokenizer = AutoTokenizer.from_pretrained(model_name)\n",
        "\n",
        "classifier = pipeline('sentiment-analysis', model=model, tokenizer=tokenizer)\n",
        "\n",
        "# Definir una función para clasificar el sentimiento\n",
        "def get_sentiment(text):\n",
        "    # Clasificamos la frase\n",
        "    result = classifier(text)[0]\n",
        "    score = int(result['label'][0])\n",
        "    # Interpretamos el resultado\n",
        "    if score < 3:\n",
        "        sentiment = 'Negativo'\n",
        "    elif score == 3:\n",
        "        sentiment = 'Neutral'\n",
        "    else:\n",
        "        sentiment = 'Positivo'\n",
        "    return sentiment\n",
        "\n",
        "\n",
        "def clean_text3(Comment):\n",
        "  text = re.sub(r'^RT[\\s]+', '', Comment)\n",
        "  text = re.sub(r'https?:\\/\\/.*[\\r\\n]*', '', Comment)\n",
        "  text = re.sub(r'#', '', Comment)\n",
        "  text = re.sub(r'@[A-Za-z0-9]+', '', Comment)\n",
        "  return text\n",
        "\n"
      ],
      "metadata": {
        "id": "8OoiScFrq4Lg"
      },
      "execution_count": 19,
      "outputs": []
    },
    {
      "cell_type": "code",
      "source": [
        "# Aplicar la función para extraer emojis a cada comentario\n",
        "df_pandas['emojis'] = df_pandas['Cleaned_Comment'].apply(extraer_emojis)\n",
        "\n",
        "# Crear un DataFrame solo con los comentarios y los emojis extraídos\n",
        "df_emojis = df_pandas[['Cleaned_Comment', 'emojis']]\n",
        "\n",
        "# Filtrar para mostrar solo filas donde se encontraron emojis\n",
        "df_emojis = df_emojis[df_emojis['emojis'].str.len() > 0]\n",
        "\n",
        "# Mostrar el DataFrame resultante\n",
        "print(df_emojis)"
      ],
      "metadata": {
        "colab": {
          "base_uri": "https://localhost:8080/"
        },
        "id": "P6Qns3KtuMjg",
        "outputId": "7a87ab31-7c8a-423c-8b82-46ca969d733d"
      },
      "execution_count": 21,
      "outputs": [
        {
          "output_type": "stream",
          "name": "stdout",
          "text": [
            "                                      Cleaned_Comment emojis\n",
            "0                                           Los amo😍😍     😍😍\n",
            "2                    No puedo con tanta felicidad ❤‍🩹      ❤\n",
            "3                                        Los amo!! ♥️     ♥️\n",
            "4   Está pequeña parte de mi vida se llama felicid...     ❤️\n",
            "5                    No puedo con tanta felicidad ❤‍🩹      ❤\n",
            "6                    No puedo con tanta felicidad ❤‍🩹      ❤\n",
            "7                 Piel de gallina... 🙌 Emoción pura!!      🙌\n",
            "8                    No puedo con tanta felicidad ❤‍🩹      ❤\n",
            "12  Muito obrigado Beatles por terem existido, I m...     ♥️\n",
            "14                                          Eternos ❤      ❤\n",
            "17                                          Los amo❤️     ❤️\n",
            "19                                          los amo 😭      😭\n",
            "20                                          los amo 😭      😭\n",
            "21                        Los amo mucho demasiado ❤️🥹     ❤️\n",
            "25  Gran gran canción, interesante como se escucha...     ❤️\n"
          ]
        }
      ]
    },
    {
      "cell_type": "code",
      "source": [
        "import pandas as pd\n",
        "data = pd.read_csv('comentarios_espanol.csv', sep=';', encoding='latin1')\n",
        "data\n",
        "\n",
        "# Añadir una nueva columna al DataFrame con el sentimiento\n",
        "data['Sentimiento'] = data['Cleaned_Comment'].apply(get_sentiment)\n",
        "data"
      ],
      "metadata": {
        "colab": {
          "base_uri": "https://localhost:8080/",
          "height": 896
        },
        "id": "v4e1GM4GrKzi",
        "outputId": "c1118ec4-c8db-4b2c-dc20-591e20dff237"
      },
      "execution_count": 3,
      "outputs": [
        {
          "output_type": "execute_result",
          "data": {
            "text/plain": [
              "                                      Cleaned_Comment Sentimiento\n",
              "0                                     Los amoðð    Negativo\n",
              "1                                             Los amo    Positivo\n",
              "2             No puedo con tanta felicidad â¤âð©¹    Negativo\n",
              "3                                    Los amo!! â¥ï¸    Positivo\n",
              "4   EstÃ¡ pequeÃ±a parte de mi vida se llama felic...    Positivo\n",
              "5             No puedo con tanta felicidad â¤âð©¹    Negativo\n",
              "6             No puedo con tanta felicidad â¤âð©¹    Negativo\n",
              "7             Piel de gallina... ð EmociÃ³n pura!!    Positivo\n",
              "8             No puedo con tanta felicidad â¤âð©¹    Negativo\n",
              "9   Es simplemente hermoso <3 valiÃ³ la pena esper...    Positivo\n",
              "10  Que placer ser partÃ­cipe de escuchar un nuevo...    Positivo\n",
              "11  BellÃ­sima, muy emotiva y de un valor histÃ³ri...    Positivo\n",
              "12  Muito obrigado Beatles por terem existido, I m...    Positivo\n",
              "13                                   LOS AMOOOOOOOOOO     Neutral\n",
              "14                                        Eternos â¤    Positivo\n",
              "15  El solo con slide de Paul homenajeando a Georg...    Positivo\n",
              "16                                            Los amo    Positivo\n",
              "17                                      Los amoâ¤ï¸    Positivo\n",
              "18  Que serÃ­a de mi vida sin The Beatles los amo ...    Positivo\n",
              "19                                       los amo ð­    Positivo\n",
              "20                                       los amo ð­    Positivo\n",
              "21                 Los amo mucho demasiado â¤ï¸ð¥¹    Negativo\n",
              "22          Gracias por este Ãºltimo regalo al mundo!    Positivo\n",
              "23  La historia de la mÃºsica no se puede escribir...    Positivo\n",
              "24                     Los amo para toda la eternidad    Positivo\n",
              "25  Gran gran canciÃ³n, interesante como se escuch...    Positivo\n",
              "26                 Beatles 4ever!! Gracias por todo!!    Positivo"
            ],
            "text/html": [
              "\n",
              "  <div id=\"df-43c132d6-147a-4768-bd5e-fa45c4a928bc\" class=\"colab-df-container\">\n",
              "    <div>\n",
              "<style scoped>\n",
              "    .dataframe tbody tr th:only-of-type {\n",
              "        vertical-align: middle;\n",
              "    }\n",
              "\n",
              "    .dataframe tbody tr th {\n",
              "        vertical-align: top;\n",
              "    }\n",
              "\n",
              "    .dataframe thead th {\n",
              "        text-align: right;\n",
              "    }\n",
              "</style>\n",
              "<table border=\"1\" class=\"dataframe\">\n",
              "  <thead>\n",
              "    <tr style=\"text-align: right;\">\n",
              "      <th></th>\n",
              "      <th>Cleaned_Comment</th>\n",
              "      <th>Sentimiento</th>\n",
              "    </tr>\n",
              "  </thead>\n",
              "  <tbody>\n",
              "    <tr>\n",
              "      <th>0</th>\n",
              "      <td>Los amoðð</td>\n",
              "      <td>Negativo</td>\n",
              "    </tr>\n",
              "    <tr>\n",
              "      <th>1</th>\n",
              "      <td>Los amo</td>\n",
              "      <td>Positivo</td>\n",
              "    </tr>\n",
              "    <tr>\n",
              "      <th>2</th>\n",
              "      <td>No puedo con tanta felicidad â¤âð©¹</td>\n",
              "      <td>Negativo</td>\n",
              "    </tr>\n",
              "    <tr>\n",
              "      <th>3</th>\n",
              "      <td>Los amo!! â¥ï¸</td>\n",
              "      <td>Positivo</td>\n",
              "    </tr>\n",
              "    <tr>\n",
              "      <th>4</th>\n",
              "      <td>EstÃ¡ pequeÃ±a parte de mi vida se llama felic...</td>\n",
              "      <td>Positivo</td>\n",
              "    </tr>\n",
              "    <tr>\n",
              "      <th>5</th>\n",
              "      <td>No puedo con tanta felicidad â¤âð©¹</td>\n",
              "      <td>Negativo</td>\n",
              "    </tr>\n",
              "    <tr>\n",
              "      <th>6</th>\n",
              "      <td>No puedo con tanta felicidad â¤âð©¹</td>\n",
              "      <td>Negativo</td>\n",
              "    </tr>\n",
              "    <tr>\n",
              "      <th>7</th>\n",
              "      <td>Piel de gallina... ð EmociÃ³n pura!!</td>\n",
              "      <td>Positivo</td>\n",
              "    </tr>\n",
              "    <tr>\n",
              "      <th>8</th>\n",
              "      <td>No puedo con tanta felicidad â¤âð©¹</td>\n",
              "      <td>Negativo</td>\n",
              "    </tr>\n",
              "    <tr>\n",
              "      <th>9</th>\n",
              "      <td>Es simplemente hermoso &lt;3 valiÃ³ la pena esper...</td>\n",
              "      <td>Positivo</td>\n",
              "    </tr>\n",
              "    <tr>\n",
              "      <th>10</th>\n",
              "      <td>Que placer ser partÃ­cipe de escuchar un nuevo...</td>\n",
              "      <td>Positivo</td>\n",
              "    </tr>\n",
              "    <tr>\n",
              "      <th>11</th>\n",
              "      <td>BellÃ­sima, muy emotiva y de un valor histÃ³ri...</td>\n",
              "      <td>Positivo</td>\n",
              "    </tr>\n",
              "    <tr>\n",
              "      <th>12</th>\n",
              "      <td>Muito obrigado Beatles por terem existido, I m...</td>\n",
              "      <td>Positivo</td>\n",
              "    </tr>\n",
              "    <tr>\n",
              "      <th>13</th>\n",
              "      <td>LOS AMOOOOOOOOOO</td>\n",
              "      <td>Neutral</td>\n",
              "    </tr>\n",
              "    <tr>\n",
              "      <th>14</th>\n",
              "      <td>Eternos â¤</td>\n",
              "      <td>Positivo</td>\n",
              "    </tr>\n",
              "    <tr>\n",
              "      <th>15</th>\n",
              "      <td>El solo con slide de Paul homenajeando a Georg...</td>\n",
              "      <td>Positivo</td>\n",
              "    </tr>\n",
              "    <tr>\n",
              "      <th>16</th>\n",
              "      <td>Los amo</td>\n",
              "      <td>Positivo</td>\n",
              "    </tr>\n",
              "    <tr>\n",
              "      <th>17</th>\n",
              "      <td>Los amoâ¤ï¸</td>\n",
              "      <td>Positivo</td>\n",
              "    </tr>\n",
              "    <tr>\n",
              "      <th>18</th>\n",
              "      <td>Que serÃ­a de mi vida sin The Beatles los amo ...</td>\n",
              "      <td>Positivo</td>\n",
              "    </tr>\n",
              "    <tr>\n",
              "      <th>19</th>\n",
              "      <td>los amo ð­</td>\n",
              "      <td>Positivo</td>\n",
              "    </tr>\n",
              "    <tr>\n",
              "      <th>20</th>\n",
              "      <td>los amo ð­</td>\n",
              "      <td>Positivo</td>\n",
              "    </tr>\n",
              "    <tr>\n",
              "      <th>21</th>\n",
              "      <td>Los amo mucho demasiado â¤ï¸ð¥¹</td>\n",
              "      <td>Negativo</td>\n",
              "    </tr>\n",
              "    <tr>\n",
              "      <th>22</th>\n",
              "      <td>Gracias por este Ãºltimo regalo al mundo!</td>\n",
              "      <td>Positivo</td>\n",
              "    </tr>\n",
              "    <tr>\n",
              "      <th>23</th>\n",
              "      <td>La historia de la mÃºsica no se puede escribir...</td>\n",
              "      <td>Positivo</td>\n",
              "    </tr>\n",
              "    <tr>\n",
              "      <th>24</th>\n",
              "      <td>Los amo para toda la eternidad</td>\n",
              "      <td>Positivo</td>\n",
              "    </tr>\n",
              "    <tr>\n",
              "      <th>25</th>\n",
              "      <td>Gran gran canciÃ³n, interesante como se escuch...</td>\n",
              "      <td>Positivo</td>\n",
              "    </tr>\n",
              "    <tr>\n",
              "      <th>26</th>\n",
              "      <td>Beatles 4ever!! Gracias por todo!!</td>\n",
              "      <td>Positivo</td>\n",
              "    </tr>\n",
              "  </tbody>\n",
              "</table>\n",
              "</div>\n",
              "    <div class=\"colab-df-buttons\">\n",
              "\n",
              "  <div class=\"colab-df-container\">\n",
              "    <button class=\"colab-df-convert\" onclick=\"convertToInteractive('df-43c132d6-147a-4768-bd5e-fa45c4a928bc')\"\n",
              "            title=\"Convert this dataframe to an interactive table.\"\n",
              "            style=\"display:none;\">\n",
              "\n",
              "  <svg xmlns=\"http://www.w3.org/2000/svg\" height=\"24px\" viewBox=\"0 -960 960 960\">\n",
              "    <path d=\"M120-120v-720h720v720H120Zm60-500h600v-160H180v160Zm220 220h160v-160H400v160Zm0 220h160v-160H400v160ZM180-400h160v-160H180v160Zm440 0h160v-160H620v160ZM180-180h160v-160H180v160Zm440 0h160v-160H620v160Z\"/>\n",
              "  </svg>\n",
              "    </button>\n",
              "\n",
              "  <style>\n",
              "    .colab-df-container {\n",
              "      display:flex;\n",
              "      gap: 12px;\n",
              "    }\n",
              "\n",
              "    .colab-df-convert {\n",
              "      background-color: #E8F0FE;\n",
              "      border: none;\n",
              "      border-radius: 50%;\n",
              "      cursor: pointer;\n",
              "      display: none;\n",
              "      fill: #1967D2;\n",
              "      height: 32px;\n",
              "      padding: 0 0 0 0;\n",
              "      width: 32px;\n",
              "    }\n",
              "\n",
              "    .colab-df-convert:hover {\n",
              "      background-color: #E2EBFA;\n",
              "      box-shadow: 0px 1px 2px rgba(60, 64, 67, 0.3), 0px 1px 3px 1px rgba(60, 64, 67, 0.15);\n",
              "      fill: #174EA6;\n",
              "    }\n",
              "\n",
              "    .colab-df-buttons div {\n",
              "      margin-bottom: 4px;\n",
              "    }\n",
              "\n",
              "    [theme=dark] .colab-df-convert {\n",
              "      background-color: #3B4455;\n",
              "      fill: #D2E3FC;\n",
              "    }\n",
              "\n",
              "    [theme=dark] .colab-df-convert:hover {\n",
              "      background-color: #434B5C;\n",
              "      box-shadow: 0px 1px 3px 1px rgba(0, 0, 0, 0.15);\n",
              "      filter: drop-shadow(0px 1px 2px rgba(0, 0, 0, 0.3));\n",
              "      fill: #FFFFFF;\n",
              "    }\n",
              "  </style>\n",
              "\n",
              "    <script>\n",
              "      const buttonEl =\n",
              "        document.querySelector('#df-43c132d6-147a-4768-bd5e-fa45c4a928bc button.colab-df-convert');\n",
              "      buttonEl.style.display =\n",
              "        google.colab.kernel.accessAllowed ? 'block' : 'none';\n",
              "\n",
              "      async function convertToInteractive(key) {\n",
              "        const element = document.querySelector('#df-43c132d6-147a-4768-bd5e-fa45c4a928bc');\n",
              "        const dataTable =\n",
              "          await google.colab.kernel.invokeFunction('convertToInteractive',\n",
              "                                                    [key], {});\n",
              "        if (!dataTable) return;\n",
              "\n",
              "        const docLinkHtml = 'Like what you see? Visit the ' +\n",
              "          '<a target=\"_blank\" href=https://colab.research.google.com/notebooks/data_table.ipynb>data table notebook</a>'\n",
              "          + ' to learn more about interactive tables.';\n",
              "        element.innerHTML = '';\n",
              "        dataTable['output_type'] = 'display_data';\n",
              "        await google.colab.output.renderOutput(dataTable, element);\n",
              "        const docLink = document.createElement('div');\n",
              "        docLink.innerHTML = docLinkHtml;\n",
              "        element.appendChild(docLink);\n",
              "      }\n",
              "    </script>\n",
              "  </div>\n",
              "\n",
              "\n",
              "<div id=\"df-c109f620-6bd4-4e2b-bae5-44b9fc531efc\">\n",
              "  <button class=\"colab-df-quickchart\" onclick=\"quickchart('df-c109f620-6bd4-4e2b-bae5-44b9fc531efc')\"\n",
              "            title=\"Suggest charts\"\n",
              "            style=\"display:none;\">\n",
              "\n",
              "<svg xmlns=\"http://www.w3.org/2000/svg\" height=\"24px\"viewBox=\"0 0 24 24\"\n",
              "     width=\"24px\">\n",
              "    <g>\n",
              "        <path d=\"M19 3H5c-1.1 0-2 .9-2 2v14c0 1.1.9 2 2 2h14c1.1 0 2-.9 2-2V5c0-1.1-.9-2-2-2zM9 17H7v-7h2v7zm4 0h-2V7h2v10zm4 0h-2v-4h2v4z\"/>\n",
              "    </g>\n",
              "</svg>\n",
              "  </button>\n",
              "\n",
              "<style>\n",
              "  .colab-df-quickchart {\n",
              "      --bg-color: #E8F0FE;\n",
              "      --fill-color: #1967D2;\n",
              "      --hover-bg-color: #E2EBFA;\n",
              "      --hover-fill-color: #174EA6;\n",
              "      --disabled-fill-color: #AAA;\n",
              "      --disabled-bg-color: #DDD;\n",
              "  }\n",
              "\n",
              "  [theme=dark] .colab-df-quickchart {\n",
              "      --bg-color: #3B4455;\n",
              "      --fill-color: #D2E3FC;\n",
              "      --hover-bg-color: #434B5C;\n",
              "      --hover-fill-color: #FFFFFF;\n",
              "      --disabled-bg-color: #3B4455;\n",
              "      --disabled-fill-color: #666;\n",
              "  }\n",
              "\n",
              "  .colab-df-quickchart {\n",
              "    background-color: var(--bg-color);\n",
              "    border: none;\n",
              "    border-radius: 50%;\n",
              "    cursor: pointer;\n",
              "    display: none;\n",
              "    fill: var(--fill-color);\n",
              "    height: 32px;\n",
              "    padding: 0;\n",
              "    width: 32px;\n",
              "  }\n",
              "\n",
              "  .colab-df-quickchart:hover {\n",
              "    background-color: var(--hover-bg-color);\n",
              "    box-shadow: 0 1px 2px rgba(60, 64, 67, 0.3), 0 1px 3px 1px rgba(60, 64, 67, 0.15);\n",
              "    fill: var(--button-hover-fill-color);\n",
              "  }\n",
              "\n",
              "  .colab-df-quickchart-complete:disabled,\n",
              "  .colab-df-quickchart-complete:disabled:hover {\n",
              "    background-color: var(--disabled-bg-color);\n",
              "    fill: var(--disabled-fill-color);\n",
              "    box-shadow: none;\n",
              "  }\n",
              "\n",
              "  .colab-df-spinner {\n",
              "    border: 2px solid var(--fill-color);\n",
              "    border-color: transparent;\n",
              "    border-bottom-color: var(--fill-color);\n",
              "    animation:\n",
              "      spin 1s steps(1) infinite;\n",
              "  }\n",
              "\n",
              "  @keyframes spin {\n",
              "    0% {\n",
              "      border-color: transparent;\n",
              "      border-bottom-color: var(--fill-color);\n",
              "      border-left-color: var(--fill-color);\n",
              "    }\n",
              "    20% {\n",
              "      border-color: transparent;\n",
              "      border-left-color: var(--fill-color);\n",
              "      border-top-color: var(--fill-color);\n",
              "    }\n",
              "    30% {\n",
              "      border-color: transparent;\n",
              "      border-left-color: var(--fill-color);\n",
              "      border-top-color: var(--fill-color);\n",
              "      border-right-color: var(--fill-color);\n",
              "    }\n",
              "    40% {\n",
              "      border-color: transparent;\n",
              "      border-right-color: var(--fill-color);\n",
              "      border-top-color: var(--fill-color);\n",
              "    }\n",
              "    60% {\n",
              "      border-color: transparent;\n",
              "      border-right-color: var(--fill-color);\n",
              "    }\n",
              "    80% {\n",
              "      border-color: transparent;\n",
              "      border-right-color: var(--fill-color);\n",
              "      border-bottom-color: var(--fill-color);\n",
              "    }\n",
              "    90% {\n",
              "      border-color: transparent;\n",
              "      border-bottom-color: var(--fill-color);\n",
              "    }\n",
              "  }\n",
              "</style>\n",
              "\n",
              "  <script>\n",
              "    async function quickchart(key) {\n",
              "      const quickchartButtonEl =\n",
              "        document.querySelector('#' + key + ' button');\n",
              "      quickchartButtonEl.disabled = true;  // To prevent multiple clicks.\n",
              "      quickchartButtonEl.classList.add('colab-df-spinner');\n",
              "      try {\n",
              "        const charts = await google.colab.kernel.invokeFunction(\n",
              "            'suggestCharts', [key], {});\n",
              "      } catch (error) {\n",
              "        console.error('Error during call to suggestCharts:', error);\n",
              "      }\n",
              "      quickchartButtonEl.classList.remove('colab-df-spinner');\n",
              "      quickchartButtonEl.classList.add('colab-df-quickchart-complete');\n",
              "    }\n",
              "    (() => {\n",
              "      let quickchartButtonEl =\n",
              "        document.querySelector('#df-c109f620-6bd4-4e2b-bae5-44b9fc531efc button');\n",
              "      quickchartButtonEl.style.display =\n",
              "        google.colab.kernel.accessAllowed ? 'block' : 'none';\n",
              "    })();\n",
              "  </script>\n",
              "</div>\n",
              "    </div>\n",
              "  </div>\n"
            ]
          },
          "metadata": {},
          "execution_count": 3
        }
      ]
    },
    {
      "cell_type": "code",
      "source": [
        "# Crear una lista con todos los emojis\n",
        "lista_emojis = ' '.join(df_emojis['emojis']).split()"
      ],
      "metadata": {
        "id": "Df7TSvhWuUMT"
      },
      "execution_count": 22,
      "outputs": []
    },
    {
      "cell_type": "code",
      "source": [
        "from collections import Counter\n",
        "\n",
        "# Contar la frecuencia de cada emoji\n",
        "conteo_emojis = Counter(lista_emojis)"
      ],
      "metadata": {
        "id": "HyaYLs1Iqd6A"
      },
      "execution_count": 24,
      "outputs": []
    },
    {
      "cell_type": "code",
      "source": [
        "# Convertir el DataFrame de Pandas a un DataFrame de Spark\n",
        "df = spark.createDataFrame(df_pandas)"
      ],
      "metadata": {
        "id": "lo34djJwulHc"
      },
      "execution_count": 25,
      "outputs": []
    },
    {
      "cell_type": "code",
      "source": [
        "from pyspark.sql.functions import udf\n",
        "from pyspark.sql.types import StringType\n",
        "\n",
        "# Cargar el modelo BERT para español\n",
        "sentiment_pipeline = pipeline(\"sentiment-analysis\", model=\"nlptown/bert-base-multilingual-uncased-sentiment\")\n",
        "# Función para análisis de sentimientos con NLTK\n",
        "def analizar_sentimiento_nltk(texto):\n",
        "    sia = SentimentIntensityAnalyzer()\n",
        "    texto_modificado = texto.replace(\"ja\", \"feliz\").replace(\"XD\", \"alegre\")\n",
        "    puntaje = sia.polarity_scores(texto_modificado)\n",
        "    return 'positivo' if puntaje['compound'] > 0.05 else ('negativo' if puntaje['compound'] < -0.05 else 'neutro')\n",
        "# Función para análisis de sentimientos con BERT\n",
        "def analizar_sentimiento_bert(texto):\n",
        "    resultado = sentiment_pipeline(texto)[0]\n",
        "    return resultado['label']\n",
        "# UDFs para Spark\n",
        "analizar_sentimiento_bert_udf = udf(analizar_sentimiento_bert, StringType())"
      ],
      "metadata": {
        "id": "WN6yQIWNvYVx"
      },
      "execution_count": 29,
      "outputs": []
    },
    {
      "cell_type": "code",
      "source": [
        "# Convertir a DataFrame de Pandas para facilitar la visualización\n",
        "df_pandas = df.toPandas()"
      ],
      "metadata": {
        "id": "o8wjL8M-wnU6"
      },
      "execution_count": 32,
      "outputs": []
    },
    {
      "cell_type": "code",
      "source": [
        "# Contar sentimientos para NLTK y BERT\n",
        "sentimientos_bert = df_pandas['sentimiento_bert'].value_counts()"
      ],
      "metadata": {
        "id": "2qOsulV9wpaM"
      },
      "execution_count": 33,
      "outputs": []
    },
    {
      "cell_type": "code",
      "source": [
        "import matplotlib.pyplot as plt\n",
        "# Crear gráficos de barras\n",
        "plt.figure(figsize=(12, 12))"
      ],
      "metadata": {
        "colab": {
          "base_uri": "https://localhost:8080/",
          "height": 53
        },
        "id": "EFNPuqrmwr5S",
        "outputId": "10e3d32d-3d83-48e8-e43d-a08cf881d513"
      },
      "execution_count": 35,
      "outputs": [
        {
          "output_type": "execute_result",
          "data": {
            "text/plain": [
              "<Figure size 1200x1200 with 0 Axes>"
            ]
          },
          "metadata": {},
          "execution_count": 35
        },
        {
          "output_type": "display_data",
          "data": {
            "text/plain": [
              "<Figure size 1200x1200 with 0 Axes>"
            ]
          },
          "metadata": {}
        }
      ]
    },
    {
      "cell_type": "code",
      "source": [
        "# Leer el archivo CSV\n",
        "data = spark.read.csv('comentarios_espanol.csv', header=True, sep=\",\")\n",
        "data.show(10)"
      ],
      "metadata": {
        "colab": {
          "base_uri": "https://localhost:8080/"
        },
        "id": "jCTEacoOpCbg",
        "outputId": "640b4c11-3d36-4b8a-c6d0-28dda964b541"
      },
      "execution_count": 9,
      "outputs": [
        {
          "output_type": "stream",
          "name": "stdout",
          "text": [
            "+--------------------+\n",
            "|     Cleaned_Comment|\n",
            "+--------------------+\n",
            "|         Los amo😍😍|\n",
            "|             Los amo|\n",
            "|No puedo con tant...|\n",
            "|        Los amo!! ♥️|\n",
            "|Está pequeña part...|\n",
            "|No puedo con tant...|\n",
            "|No puedo con tant...|\n",
            "|Piel de gallina.....|\n",
            "|No puedo con tant...|\n",
            "|Es simplemente he...|\n",
            "+--------------------+\n",
            "only showing top 10 rows\n",
            "\n"
          ]
        }
      ]
    },
    {
      "cell_type": "code",
      "source": [
        "import pandas as pd\n",
        "\n",
        "# Leer el archivo CSV en un DataFrame de pandas\n",
        "df_pandas = pd.read_csv('comentarios_espanol.csv')\n"
      ],
      "metadata": {
        "id": "v81Yn1M-s-6K"
      },
      "execution_count": 14,
      "outputs": []
    },
    {
      "cell_type": "code",
      "source": [
        "# Gráfico para BERT\n",
        "plt.subplot(1, 2, 2)\n",
        "sentimientos_bert.plot(kind='bar', color=['green', 'blue', 'red'])\n",
        "plt.title('Análisis de Sentimientos BERT')\n",
        "plt.xlabel('Sentimiento')\n",
        "plt.ylabel('Cantidad')\n",
        "\n",
        "\n",
        "plt.tight_layout()\n",
        "plt.show()"
      ],
      "metadata": {
        "colab": {
          "base_uri": "https://localhost:8080/",
          "height": 487
        },
        "id": "k55UUl03wr-h",
        "outputId": "6958d170-2f87-4299-dcac-4e66c1d97858"
      },
      "execution_count": 43,
      "outputs": [
        {
          "output_type": "display_data",
          "data": {
            "text/plain": [
              "<Figure size 640x480 with 1 Axes>"
            ],
            "image/png": "[encoded data removed]"
          },
          "metadata": {}
        }
      ]
    },
    {
      "cell_type": "code",
      "source": [
        "from transformers import BertTokenizer\n",
        "\n",
        "model_name = \"bert-base-multilingual-uncased\"\n",
        "tokenizer = BertTokenizer.from_pretrained(model_name)\n",
        "\n",
        "texto = input(\"Ingrese una oración para el análisis de sentimiento: \")"
      ],
      "metadata": {
        "colab": {
          "base_uri": "https://localhost:8080/"
        },
        "id": "GhiBwojOyFWJ",
        "outputId": "cdc2bf3a-de13-47f7-a30f-dbb0e89f4550"
      },
      "execution_count": 39,
      "outputs": [
        {
          "name": "stdout",
          "output_type": "stream",
          "text": [
            "Ingrese una oración para el análisis de sentimiento:  Los amo😍😍\n"
          ]
        }
      ]
    }
  ]
}